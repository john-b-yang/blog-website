{
 "cells": [
  {
   "cell_type": "code",
   "execution_count": 1,
   "metadata": {
    "collapsed": false
   },
   "outputs": [],
   "source": [
    "# Data Processing Tools\n",
    "import time\n",
    "import numpy as np\n",
    "import pandas as pd\n",
    "import matplotlib.pyplot as plt\n",
    "import matplotlib.image as mping\n",
    "from collections import Counter\n",
    "\n",
    "# Scikit Learn Machine Learning Tools\n",
    "from sklearn.model_selection import train_test_split\n",
    "from sklearn.metrics import classification_report\n",
    "from sklearn import svm\n",
    "\n",
    "# Data Set\n",
    "from mnist import MNIST\n",
    "\n",
    "%matplotlib inline\n",
    "\n",
    "# Suppressing warnings\n",
    "import warnings\n",
    "warnings.filterwarnings('ignore')"
   ]
  },
  {
   "cell_type": "markdown",
   "metadata": {
    "collapsed": true
   },
   "source": [
    "### Part 1: Reading in MNIST Data"
   ]
  },
  {
   "cell_type": "code",
   "execution_count": 5,
   "metadata": {
    "collapsed": false
   },
   "outputs": [],
   "source": [
    "mndata = MNIST('/Users/johnyang/Documents/Apps/MLAI/Notebooks')\n",
    "mnist_images, mnist_labels = mndata.load_testing()\n",
    "\n",
    "# Create DataFrame with 784 (28x28 Image) columns and 10000 rows\n",
    "# Column = feature / color of pixel at specific index\n",
    "# Row = One instance of data \n",
    "mnist_df = pd.DataFrame(mnist_images)\n",
    "\n",
    "# Add labels corresponding to images as last column in table\n",
    "mnist_df.insert(loc=0, column='label', value=mnist_labels)\n",
    "\n",
    "# Separate image pixel values and labels\n",
    "# Take first 5000 images b/c ain't nobody got time for 10000 images\n",
    "images = mnist_df.iloc[0:5000, 1:]\n",
    "labels = mnist_df.iloc[0:5000, :1]\n",
    "\n",
    "# Randomly separate data into testing and training batches\n",
    "train_images, test_images, train_labels, test_labels = train_test_split(images, labels, train_size=0.5, random_state=0)\n",
    "\n",
    "# Cast pandas array types into numpy arrays to make it easier to run computations\n",
    "train_images_array = train_images.as_matrix()\n",
    "test_images_array = test_images.as_matrix()\n",
    "train_labels_array = train_labels.as_matrix()"
   ]
  },
  {
   "cell_type": "markdown",
   "metadata": {},
   "source": [
    "### Part 2: Visualization of MNIST Data"
   ]
  },
  {
   "cell_type": "code",
   "execution_count": 6,
   "metadata": {
    "collapsed": false
   },
   "outputs": [
    {
     "data": {
      "text/plain": [
       "Text(0.5,1,'5')"
      ]
     },
     "execution_count": 6,
     "metadata": {},
     "output_type": "execute_result"
    },
    {
     "data": {
      "image/png": "[encoded data removed]",
      "text/plain": [
       "<matplotlib.figure.Figure at 0x181fec4f60>"
      ]
     },
     "metadata": {},
     "output_type": "display_data"
    }
   ],
   "source": [
    "# Select first image from training set\n",
    "image = train_images.iloc[0].as_matrix()\n",
    "\n",
    "# Reshape 784x1 row into 28x28 matrix / image\n",
    "image = image.reshape((28, 28))\n",
    "\n",
    "# Visual Representation of one instance of the data\n",
    "plt.imshow(image, cmap='gray')\n",
    "plt.title(train_labels.iloc[0, 0])"
   ]
  },
  {
   "cell_type": "code",
   "execution_count": 7,
   "metadata": {
    "collapsed": false
   },
   "outputs": [
    {
     "data": {
      "text/plain": [
       "(array([ 628.,    9.,   11.,    4.,    9.,    9.,    6.,   14.,   14.,   80.]),\n",
       " array([   0. ,   25.5,   51. ,   76.5,  102. ,  127.5,  153. ,  178.5,\n",
       "         204. ,  229.5,  255. ]),\n",
       " <a list of 10 Patch objects>)"
      ]
     },
     "execution_count": 7,
     "metadata": {},
     "output_type": "execute_result"
    },
    {
     "data": {
      "image/png": "[encoded data removed]",
      "text/plain": [
       "<matplotlib.figure.Figure at 0x1a216bc748>"
      ]
     },
     "metadata": {},
     "output_type": "display_data"
    }
   ],
   "source": [
    "# Histogram Plot representing Distribution of Data\n",
    "plt.hist(train_images.iloc[0])"
   ]
  },
  {
   "cell_type": "markdown",
   "metadata": {},
   "source": [
    "### Part 3: K Nearest Neighbors"
   ]
  },
  {
   "cell_type": "code",
   "execution_count": 8,
   "metadata": {
    "collapsed": false
   },
   "outputs": [
    {
     "name": "stdout",
     "output_type": "stream",
     "text": [
      "Number of batches: 10\n",
      "Completed batch 1/10 in 2.826181173324585 Seconds.\n",
      "Completed batch 2/10 in 2.7535407543182373 Seconds.\n",
      "Completed batch 3/10 in 2.764810085296631 Seconds.\n",
      "Completed batch 4/10 in 3.0500662326812744 Seconds.\n",
      "Completed batch 5/10 in 3.379239320755005 Seconds.\n",
      "Completed batch 6/10 in 3.2485549449920654 Seconds.\n",
      "Completed batch 7/10 in 3.1414830684661865 Seconds.\n",
      "Completed batch 8/10 in 3.2380712032318115 Seconds.\n",
      "Completed batch 9/10 in 3.150099992752075 Seconds.\n",
      "Completed batch 10/10 in 3.269331932067871 Seconds.\n"
     ]
    }
   ],
   "source": [
    "test_images_len = test_images.shape[0]\n",
    "predictions = []\n",
    "\n",
    "batch_size = 250\n",
    "batches = int(test_images_len/batch_size)\n",
    "\n",
    "print(\"Number of batches: \" + str(batches))\n",
    "for i in range(int(batches)):\n",
    "    # Time of batch processing speed\n",
    "    tick = time.time()\n",
    "    \n",
    "    # Euclidean Distance Calculation\n",
    "    test_prediction = test_images_array[(i * batch_size):((i+1) * batch_size)]\n",
    "    dot_product = np.dot(test_prediction, train_images_array.T)\n",
    "    \n",
    "    sum_square_test = np.square(test_prediction).sum(axis=1)\n",
    "    sum_square_train = np.square(train_images_array).sum(axis=1)\n",
    "    \n",
    "    distances = np.sqrt(-2 * dot_product + sum_square_train + np.matrix(sum_square_test).T)\n",
    "    \n",
    "    num_distances = distances.shape[0]\n",
    "    \n",
    "    # Batch Predictions\n",
    "    label_predictions = np.zeros(num_distances)\n",
    "    for j in range(num_distances):\n",
    "        k_closest_y = []\n",
    "        \n",
    "        # Labels from points with distance calculated\n",
    "        calculated_labels = train_labels_array[np.argsort(distances[j,:])].flatten()\n",
    "        \n",
    "        # 3 Closest Neighbors\n",
    "        k_closest_y = calculated_labels[:3]\n",
    "        \n",
    "        # Count Unique Neighbors\n",
    "        counted = Counter(k_closest_y)\n",
    "        \n",
    "        label_predictions[j] = counted.most_common(1)[0][0]\n",
    "    \n",
    "    predictions = predictions + list(label_predictions)\n",
    "    \n",
    "    tock = time.time()\n",
    "    \n",
    "    print(\"Completed batch \" + str(i + 1) + \"/\" + str(batches) + \" in \" + str(tock - tick) + \" Seconds.\")"
   ]
  },
  {
   "cell_type": "code",
   "execution_count": 9,
   "metadata": {
    "collapsed": false
   },
   "outputs": [
    {
     "name": "stdout",
     "output_type": "stream",
     "text": [
      "0.9116\n"
     ]
    }
   ],
   "source": [
    "prediction_array = np.asarray(predictions)\n",
    "\n",
    "correct = 0\n",
    "count = 0\n",
    "for index, row in test_labels.iterrows():\n",
    "    actual_label= int(row['label'])\n",
    "    if (actual_label == prediction_array[count]):\n",
    "        correct += 1\n",
    "    count += 1\n",
    "\n",
    "print(float(correct) / float(count))"
   ]
  },
  {
   "cell_type": "markdown",
   "metadata": {},
   "source": [
    "### Part 4: Support Vector Machine"
   ]
  },
  {
   "cell_type": "code",
   "execution_count": 10,
   "metadata": {
    "collapsed": false
   },
   "outputs": [
    {
     "name": "stdout",
     "output_type": "stream",
     "text": [
      "0.1008\n"
     ]
    }
   ],
   "source": [
    "# Trial 1: Apply SVM to raw data set\n",
    "svm_classifier = svm.SVC()\n",
    "svm_classifier.fit(train_images, train_labels.values.ravel())\n",
    "accuracy = svm_classifier.score(test_images, test_labels)\n",
    "print(str(round(accuracy, 4)))"
   ]
  },
  {
   "cell_type": "code",
   "execution_count": 11,
   "metadata": {
    "collapsed": false
   },
   "outputs": [
    {
     "data": {
      "text/plain": [
       "Text(0.5,1,'label    5\\nName: 778, dtype: int64')"
      ]
     },
     "execution_count": 11,
     "metadata": {},
     "output_type": "execute_result"
    },
    {
     "data": {
      "image/png": "[encoded data removed]",
      "text/plain": [
       "<matplotlib.figure.Figure at 0x1a35e70cf8>"
      ]
     },
     "metadata": {},
     "output_type": "display_data"
    }
   ],
   "source": [
    "# Denoising number boundaries to be more clear\n",
    "test_images[test_images > 0] = 1\n",
    "train_images[train_images > 0] = 1\n",
    "\n",
    "# Revisualize MNIST Data Images\n",
    "binary_image = train_images.iloc[0].as_matrix().reshape((28, 28))\n",
    "plt.imshow(binary_image, cmap='binary')\n",
    "plt.title(train_labels.iloc[0])"
   ]
  },
  {
   "cell_type": "code",
   "execution_count": 12,
   "metadata": {
    "collapsed": false
   },
   "outputs": [
    {
     "data": {
      "text/plain": [
       "(array([ 605.,    0.,    0.,    0.,    0.,    0.,    0.,    0.,    0.,  179.]),\n",
       " array([ 0. ,  0.1,  0.2,  0.3,  0.4,  0.5,  0.6,  0.7,  0.8,  0.9,  1. ]),\n",
       " <a list of 10 Patch objects>)"
      ]
     },
     "execution_count": 12,
     "metadata": {},
     "output_type": "execute_result"
    },
    {
     "data": {
      "image/png": "[encoded data removed]",
      "text/plain": [
       "<matplotlib.figure.Figure at 0x1a35e7ddd8>"
      ]
     },
     "metadata": {},
     "output_type": "display_data"
    }
   ],
   "source": [
    "# Histogram indicates that data is either 1 or 0\n",
    "plt.hist(train_images.iloc[0])"
   ]
  },
  {
   "cell_type": "code",
   "execution_count": 13,
   "metadata": {
    "collapsed": false
   },
   "outputs": [
    {
     "name": "stdout",
     "output_type": "stream",
     "text": [
      "Accuracy: 0.8948\n",
      "             precision    recall  f1-score   support\n",
      "\n",
      "          0       0.13      0.13      0.13       227\n",
      "          1       0.08      0.09      0.09       276\n",
      "          2       0.13      0.11      0.12       278\n",
      "          3       0.13      0.13      0.13       247\n",
      "          4       0.09      0.08      0.09       250\n",
      "          5       0.08      0.08      0.08       233\n",
      "          6       0.11      0.12      0.11       225\n",
      "          7       0.11      0.10      0.10       267\n",
      "          8       0.08      0.07      0.07       238\n",
      "          9       0.08      0.08      0.08       259\n",
      "\n",
      "avg / total       0.10      0.10      0.10      2500\n",
      "\n"
     ]
    }
   ],
   "source": [
    "# Trial 2: Apply SVM to binary data set\n",
    "svm_classifier = svm.SVC()\n",
    "svm_classifier.fit(train_images, train_labels.values.ravel())\n",
    "accuracy = svm_classifier.score(test_images, test_labels)\n",
    "print(\"Accuracy: \" + str(round(accuracy, 4)))\n",
    "print(classification_report(train_labels, predictions))"
   ]
  },
  {
   "cell_type": "markdown",
   "metadata": {},
   "source": [
    "### Part 5: Logistic Regression with Tensorflow"
   ]
  },
  {
   "cell_type": "code",
   "execution_count": 18,
   "metadata": {
    "collapsed": false
   },
   "outputs": [
    {
     "name": "stdout",
     "output_type": "stream",
     "text": [
      "Extracting MNIST_data/train-images-idx3-ubyte.gz\n",
      "Extracting MNIST_data/train-labels-idx1-ubyte.gz\n",
      "Extracting MNIST_data/t10k-images-idx3-ubyte.gz\n",
      "Extracting MNIST_data/t10k-labels-idx1-ubyte.gz\n"
     ]
    }
   ],
   "source": [
    "import tensorflow as tf\n",
    "from tensorflow.examples.tutorials.mnist import input_data\n",
    "mnist = input_data.read_data_sets(\"MNIST_data/\", one_hot=True)"
   ]
  },
  {
   "cell_type": "markdown",
   "metadata": {},
   "source": [
    "#### Part 5, Section 1: Softmax Regression Implementation"
   ]
  },
  {
   "cell_type": "code",
   "execution_count": 19,
   "metadata": {
    "collapsed": true
   },
   "outputs": [],
   "source": [
    "# Placeholder: Value to be input when asking TensorFlow to run computation\n",
    "# 784 = Flattened 28x28 Image\n",
    "# Parameter 1: Tensor values' type, Parameter 2: Shape\n",
    "x = tf.placeholder(tf.float32, [None, 784])\n",
    "\n",
    "# Variable: Modifiable tensor living in the TensorFlow graph\n",
    "# W's Shape (784, 10) means 784 Image -> 10 Dim. Evidence Vector\n",
    "W = tf.Variable(tf.zeros([784, 10]))\n",
    "b = tf.Variable(tf.zeros([10]))\n",
    "\n",
    "# Softmax Regression!\n",
    "y = tf.nn.softmax(tf.matmul(x, W) + b)"
   ]
  },
  {
   "cell_type": "markdown",
   "metadata": {},
   "source": [
    "#### Part 5, Section 2: Model Training"
   ]
  },
  {
   "cell_type": "code",
   "execution_count": 20,
   "metadata": {
    "collapsed": false
   },
   "outputs": [],
   "source": [
    "# Cost / Loss Function: How far off our model is from desired outcome\n",
    "\n",
    "# Cross-entropy: Measures how inefficient predictions are for describing the truth\n",
    "# Function = - summation (y' * log(y))\n",
    "y_prime = tf.placeholder(tf.float32, [None, 10])\n",
    "cross_entropy = tf.reduce_mean(-tf.reduce_sum(y_prime * tf.log(y), reduction_indices=[1]))\n",
    "\n",
    "# Minimize cross_entropy function with gradient descent + 0.5 Learning Rate\n",
    "train_step = tf.train.GradientDescentOptimizer(0.5).minimize(cross_entropy)"
   ]
  },
  {
   "cell_type": "markdown",
   "metadata": {},
   "source": [
    "#### Part 5, Section 3: Model Evaluation"
   ]
  },
  {
   "cell_type": "code",
   "execution_count": 21,
   "metadata": {
    "collapsed": false
   },
   "outputs": [
    {
     "name": "stdout",
     "output_type": "stream",
     "text": [
      "0.92\n"
     ]
    }
   ],
   "source": [
    "session = tf.InteractiveSession()\n",
    "tf.global_variables_initializer().run()\n",
    "\n",
    "for _ in range(1000):\n",
    "    batch_xs, batch_ys = mnist.train.next_batch(100)\n",
    "    session.run(train_step, feed_dict={x: batch_xs, y_prime: batch_ys})\n",
    "\n",
    "# tf.argmax - Index of highest entry in tensor (y) along an axis (1)\n",
    "# correct_prediction is an array of booleans\n",
    "correct_prediction = tf.equal(tf.argmax(y, 1), tf.argmax(y_prime, 1))\n",
    "\n",
    "# Calculate accuracy: Cast to floating point numbers, take mean\n",
    "accuracy = tf.reduce_mean(tf.cast(correct_prediction, tf.float32))\n",
    "\n",
    "print(session.run(accuracy, feed_dict={x: mnist.test.images, y_prime: mnist.test.labels}))"
   ]
  },
  {
   "cell_type": "markdown",
   "metadata": {},
   "source": [
    "### Part 6: Convolutional Neural Network with Tensorflow"
   ]
  },
  {
   "cell_type": "markdown",
   "metadata": {},
   "source": [
    "Convolutional Neural Network Design: Consists of Input layer, output layer, multiple hidden layers. Hidden layers include convolutional, pooling, fully connected, normalization layers.\n",
    "\n",
    "Convolutional Layer: Apply convolution operation to input, similar to how individual neuron responds to visual stimulus.\n",
    "\n",
    "Pooling Layer: Combine outputs of one layer's neuron clusters into a single neuron in the next layer.\n",
    "\n",
    "Fully Connected: Connect every neuron in one leayr to every neuron in another layer. Similar to multi-layer perceptron neural network."
   ]
  },
  {
   "cell_type": "markdown",
   "metadata": {},
   "source": [
    "#### Part 6, Section 1: Weight Initialization, Convolution, Pooling"
   ]
  },
  {
   "cell_type": "code",
   "execution_count": 23,
   "metadata": {
    "collapsed": true
   },
   "outputs": [],
   "source": [
    "# Initialize weights and bias with small amount of noise for symmetry\n",
    "# breaking + preventing 0 gradients during backpropagation calculations\n",
    "\n",
    "def weight_variable(shape):\n",
    "    initial = tf.truncated_normal(shape, stddev=0.1)\n",
    "    return tf.Variable(initial)\n",
    "\n",
    "def bias_variable(shape):\n",
    "    initial = tf.constant(0.1, shape=shape)\n",
    "    return tf.Variable(initial)\n",
    "\n",
    "def conv2d(x, W):\n",
    "    return tf.nn.conv2d(x, W, strides=[1, 1, 1, 1], padding='SAME')\n",
    "\n",
    "def max_pool_2x2(x):\n",
    "    return tf.nn.max_pool(x, ksize=[1, 2, 2, 1], strides=[1, 2, 2, 1], padding='SAME')"
   ]
  },
  {
   "cell_type": "markdown",
   "metadata": {},
   "source": [
    "#### Part 6, Section 2: First Convolutional Layer"
   ]
  },
  {
   "cell_type": "code",
   "execution_count": 24,
   "metadata": {
    "collapsed": true
   },
   "outputs": [],
   "source": [
    "# Convolution, then Max Pooling\n",
    "# Computing 32 features for each 5x5 patch.\n",
    "# Weight tensor shape: [5, 5, 1, 32], 5x5 for patch size, 1 input channel, 32 output channels\n",
    "# Bias vector with component for each output channel\n",
    "\n",
    "W_conv1 = weight_variable([5, 5, 1, 32])\n",
    "b_conv1 = bias_variable([32])\n",
    "\n",
    "# 4D Tensor. 2nd & 3rd dimensions correspond to image width and height\n",
    "# Final dimension corresponds to number of color channels\n",
    "x_image = tf.reshape(x, [-1, 28, 28, 1])\n",
    "\n",
    "# Perform convolution to Weight Tensor!\n",
    "# 1. Convolution, 2. Add Bias, 3. Apply ReLU, 4. Max Pool\n",
    "h_conv1 = tf.nn.relu(conv2d(x_image, W_conv1) + b_conv1)\n",
    "h_pool1 = max_pool_2x2(h_conv1)"
   ]
  },
  {
   "cell_type": "markdown",
   "metadata": {},
   "source": [
    "#### Part 6, Section 3: Second Convolutional Layer"
   ]
  },
  {
   "cell_type": "code",
   "execution_count": 25,
   "metadata": {
    "collapsed": true
   },
   "outputs": [],
   "source": [
    "# Stack second layer onto first\n",
    "W_conv2 = weight_variable([5, 5, 32, 64])\n",
    "b_conv2 = bias_variable([64])\n",
    "\n",
    "h_conv2 = tf.nn.relu(conv2d(h_pool1, W_conv2) + b_conv2)\n",
    "h_pool2 = max_pool_2x2(h_conv2)"
   ]
  },
  {
   "cell_type": "markdown",
   "metadata": {},
   "source": [
    "#### Part 6, Section 4: Densely Connected Layer"
   ]
  },
  {
   "cell_type": "code",
   "execution_count": 26,
   "metadata": {
    "collapsed": true
   },
   "outputs": [],
   "source": [
    "# Image size has been reduced to 7x7\n",
    "# Fully Connected Layer w/ 2014 neurons will process entire image\n",
    "W_fc1 = weight_variable([7 * 7 * 64, 1024])\n",
    "b_fc1 = bias_variable([1024])\n",
    "\n",
    "h_pool2_flat = tf.reshape(h_pool2, [-1, 7 * 7 * 64])\n",
    "h_fc1 = tf.nn.relu(tf.matmul(h_pool2_flat, W_fc1) + b_fc1)"
   ]
  },
  {
   "cell_type": "markdown",
   "metadata": {},
   "source": [
    "#### Part 6, Section 5: Dropout Layer"
   ]
  },
  {
   "cell_type": "code",
   "execution_count": 27,
   "metadata": {
    "collapsed": true
   },
   "outputs": [],
   "source": [
    "# Reduce overfitting by using dropout before readout layer\n",
    "# Placeholder stores neuron's output if it's kept during dropout\n",
    "\n",
    "keep_prob = tf.placeholder(tf.float32)\n",
    "h_fc1_drop = tf.nn.dropout(h_fc1, keep_prob)"
   ]
  },
  {
   "cell_type": "markdown",
   "metadata": {},
   "source": [
    "#### Part 6, Section 6: Readout Layer"
   ]
  },
  {
   "cell_type": "code",
   "execution_count": 28,
   "metadata": {
    "collapsed": true
   },
   "outputs": [],
   "source": [
    "W_fc2 = weight_variable([1024, 10])\n",
    "b_fc2 = bias_variable([10])\n",
    "\n",
    "y_conv = tf.matmul(h_fc1_drop, W_fc2) + b_fc2"
   ]
  },
  {
   "cell_type": "markdown",
   "metadata": {},
   "source": [
    "#### Part 6, Section 7: Model Training and Evaluation"
   ]
  },
  {
   "cell_type": "code",
   "execution_count": 35,
   "metadata": {
    "collapsed": false
   },
   "outputs": [
    {
     "name": "stdout",
     "output_type": "stream",
     "text": [
      "step 0, training accuracy 0.08\n",
      "step 100, training accuracy 0.76\n",
      "step 200, training accuracy 0.82\n",
      "step 300, training accuracy 0.92\n",
      "step 400, training accuracy 0.86\n",
      "test accuracy 0.9422\n"
     ]
    }
   ],
   "source": [
    "cross_entropy = tf.reduce_mean(tf.nn.softmax_cross_entropy_with_logits(labels=y_prime, logits=y_conv))\n",
    "\n",
    "train_step = tf.train.AdamOptimizer(1e-4).minimize(cross_entropy)\n",
    "\n",
    "correct_prediction = tf.equal(tf.argmax(y_conv,1), tf.argmax(y_prime,1))\n",
    "\n",
    "accuracy = tf.reduce_mean(tf.cast(correct_prediction, tf.float32))\n",
    "\n",
    "session.run(tf.global_variables_initializer())\n",
    "\n",
    "for i in range(500):\n",
    "  batch = mnist.train.next_batch(50)\n",
    "  if i%100 == 0:\n",
    "    train_accuracy = accuracy.eval(feed_dict={\n",
    "        x:batch[0], y_prime: batch[1], keep_prob: 1.0})\n",
    "    print(\"step %d, training accuracy %g\"%(i, train_accuracy))\n",
    "  train_step.run(feed_dict={x: batch[0], y_prime: batch[1], keep_prob: 0.5})\n",
    "\n",
    "print(\"test accuracy %g\"%accuracy.eval(feed_dict={\n",
    "    x: mnist.test.images, y_prime: mnist.test.labels, keep_prob: 1.0}))"
   ]
  }
 ],
 "metadata": {
  "anaconda-cloud": {},
  "kernelspec": {
   "display_name": "Python [ds100]",
   "language": "python",
   "name": "Python [ds100]"
  },
  "language_info": {
   "codemirror_mode": {
    "name": "ipython",
    "version": 3
   },
   "file_extension": ".py",
   "mimetype": "text/x-python",
   "name": "python",
   "nbconvert_exporter": "python",
   "pygments_lexer": "ipython3",
   "version": "3.6.3"
  }
 },
 "nbformat": 4,
 "nbformat_minor": 2
}
